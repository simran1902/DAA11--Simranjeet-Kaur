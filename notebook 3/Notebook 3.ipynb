{
 "cells": [
  {
   "cell_type": "code",
   "execution_count": 114,
   "id": "c169515d-f492-4625-ad67-0f37b779748c",
   "metadata": {},
   "outputs": [
    {
     "name": "stdout",
     "output_type": "stream",
     "text": [
      "Defaulting to user installation because normal site-packages is not writeable\n",
      "Requirement already satisfied: gatspy in c:\\users\\kaurs\\appdata\\roaming\\python\\python312\\site-packages (0.3)\n",
      "Defaulting to user installation because normal site-packages is not writeable\n",
      "Requirement already satisfied: feets in c:\\users\\kaurs\\appdata\\roaming\\python\\python312\\site-packages (0.4)\n",
      "Requirement already satisfied: numpy in c:\\users\\kaurs\\appdata\\roaming\\python\\python312\\site-packages (from feets) (1.26.4)\n",
      "Requirement already satisfied: scipy in c:\\users\\kaurs\\appdata\\roaming\\python\\python312\\site-packages (from feets) (1.13.0)\n",
      "Requirement already satisfied: six in c:\\users\\kaurs\\appdata\\roaming\\python\\python312\\site-packages (from feets) (1.16.0)\n",
      "Requirement already satisfied: pytest in c:\\users\\kaurs\\appdata\\roaming\\python\\python312\\site-packages (from feets) (8.1.1)\n",
      "Requirement already satisfied: statsmodels in c:\\users\\kaurs\\appdata\\roaming\\python\\python312\\site-packages (from feets) (0.14.2)\n",
      "Requirement already satisfied: mock in c:\\users\\kaurs\\appdata\\roaming\\python\\python312\\site-packages (from feets) (5.1.0)\n",
      "Requirement already satisfied: astropy in c:\\users\\kaurs\\appdata\\roaming\\python\\python312\\site-packages (from feets) (6.1.0)\n",
      "Requirement already satisfied: pandas in c:\\users\\kaurs\\appdata\\roaming\\python\\python312\\site-packages (from feets) (2.2.2)\n",
      "Requirement already satisfied: requests in c:\\users\\kaurs\\appdata\\roaming\\python\\python312\\site-packages (from feets) (2.31.0)\n",
      "Requirement already satisfied: attrs in c:\\users\\kaurs\\appdata\\roaming\\python\\python312\\site-packages (from feets) (23.2.0)\n",
      "Requirement already satisfied: pyerfa>=2.0.1.1 in c:\\users\\kaurs\\appdata\\roaming\\python\\python312\\site-packages (from astropy->feets) (2.0.1.4)\n",
      "Requirement already satisfied: astropy-iers-data>=0.2024.4.29.0.28.48 in c:\\users\\kaurs\\appdata\\roaming\\python\\python312\\site-packages (from astropy->feets) (0.2024.6.3.0.31.14)\n",
      "Requirement already satisfied: PyYAML>=3.13 in c:\\users\\kaurs\\appdata\\roaming\\python\\python312\\site-packages (from astropy->feets) (6.0.1)\n",
      "Requirement already satisfied: packaging>=19.0 in c:\\users\\kaurs\\appdata\\roaming\\python\\python312\\site-packages (from astropy->feets) (24.0)\n",
      "Requirement already satisfied: python-dateutil>=2.8.2 in c:\\users\\kaurs\\appdata\\roaming\\python\\python312\\site-packages (from pandas->feets) (2.9.0.post0)\n",
      "Requirement already satisfied: pytz>=2020.1 in c:\\users\\kaurs\\appdata\\roaming\\python\\python312\\site-packages (from pandas->feets) (2024.1)\n",
      "Requirement already satisfied: tzdata>=2022.7 in c:\\users\\kaurs\\appdata\\roaming\\python\\python312\\site-packages (from pandas->feets) (2024.1)\n",
      "Requirement already satisfied: iniconfig in c:\\users\\kaurs\\appdata\\roaming\\python\\python312\\site-packages (from pytest->feets) (2.0.0)\n",
      "Requirement already satisfied: pluggy<2.0,>=1.4 in c:\\users\\kaurs\\appdata\\roaming\\python\\python312\\site-packages (from pytest->feets) (1.5.0)\n",
      "Requirement already satisfied: colorama in c:\\users\\kaurs\\appdata\\roaming\\python\\python312\\site-packages (from pytest->feets) (0.4.6)\n",
      "Requirement already satisfied: charset-normalizer<4,>=2 in c:\\users\\kaurs\\appdata\\roaming\\python\\python312\\site-packages (from requests->feets) (3.3.2)\n",
      "Requirement already satisfied: idna<4,>=2.5 in c:\\users\\kaurs\\appdata\\roaming\\python\\python312\\site-packages (from requests->feets) (3.7)\n",
      "Requirement already satisfied: urllib3<3,>=1.21.1 in c:\\users\\kaurs\\appdata\\roaming\\python\\python312\\site-packages (from requests->feets) (2.2.1)\n",
      "Requirement already satisfied: certifi>=2017.4.17 in c:\\users\\kaurs\\appdata\\roaming\\python\\python312\\site-packages (from requests->feets) (2024.2.2)\n",
      "Requirement already satisfied: patsy>=0.5.6 in c:\\users\\kaurs\\appdata\\roaming\\python\\python312\\site-packages (from statsmodels->feets) (0.5.6)\n"
     ]
    }
   ],
   "source": [
    "!pip3 install gatspy\n",
    "!pip3 install feets"
   ]
  },
  {
   "cell_type": "code",
   "execution_count": 2,
   "id": "8c34e4b3-1163-47f2-bc49-6dc2d164765e",
   "metadata": {},
   "outputs": [],
   "source": [
    "import matplotlib.pyplot as plt\n",
    "import numpy as np\n",
    "import pandas as pd"
   ]
  },
  {
   "cell_type": "markdown",
   "id": "8d3288ef-562f-4be5-a5cf-7d418873ac94",
   "metadata": {},
   "source": [
    "**Fitting each light curve using FT and saving it as a pdf file**"
   ]
  },
  {
   "cell_type": "code",
   "execution_count": 3,
   "id": "36edf35c-5db6-4110-ae55-54e288f6fe8b",
   "metadata": {},
   "outputs": [
    {
     "name": "stdout",
     "output_type": "stream",
     "text": [
      "_data\\_TESS_lightcurves_outliercleaned\\\n",
      "All plots saved.\n"
     ]
    }
   ],
   "source": [
    "import glob\n",
    "import os\n",
    "import pandas as pd\n",
    "import numpy as np\n",
    "import matplotlib.pyplot as plt\n",
    "from matplotlib.backends.backend_pdf import PdfPages\n",
    "\n",
    "def compute_rmse(y_true, y_pred):\n",
    "    return np.sqrt(np.mean((y_true - y_pred) ** 2))\n",
    "\n",
    "def FT_bestfit():\n",
    "    route = '_data\\\\_TESS_lightcurves_outliercleaned\\\\'\n",
    "    path = route\n",
    "    print(path)\n",
    "    \n",
    "    if not os.path.exists(path):\n",
    "        print(f\"Directory {path} does not exist.\")\n",
    "        return\n",
    "    \n",
    "    for filename in glob.iglob(f'{path}/*/*'):\n",
    "        # Generate the PDF filename properly\n",
    "        pdf_filename = os.path.splitext(filename)[0] + '.pdf'\n",
    "        \n",
    "        # Create directory for the PDF if it doesn't exist\n",
    "        pdf_dir = os.path.dirname(pdf_filename)\n",
    "        if not os.path.exists(pdf_dir):\n",
    "            os.makedirs(pdf_dir)\n",
    "        \n",
    "        data_in = pd.read_csv(filename, sep=',', names=['time', 'mag', 'magerr'], encoding='unicode_escape')\n",
    "        tess_lc = data_in.to_records(index=False)\n",
    "        a = tess_lc['time']\n",
    "        b = tess_lc['mag']\n",
    "        x = a / np.max(a)\n",
    "        y = b / np.max(b)\n",
    "        best_k = None\n",
    "        best_rmse = float('inf')\n",
    "        best_y_fit = None\n",
    "        target_rmse = 0.0001\n",
    "        \n",
    "        for k in range(1, 901):\n",
    "            y_fft = np.fft.fft(y)\n",
    "            y_fft[k + 1:-k] = 0\n",
    "            y_fit = np.fft.ifft(y_fft).real\n",
    "            \n",
    "            rmse = compute_rmse(y, y_fit)\n",
    "            if rmse < best_rmse:\n",
    "                best_rmse = rmse\n",
    "                best_k = k\n",
    "                best_y_fit = y_fit\n",
    "                if best_rmse <= target_rmse:\n",
    "                    break\n",
    "        \n",
    "        with PdfPages(pdf_filename) as pdf:\n",
    "            fig = plt.figure(figsize=(10, 5))\n",
    "            ax = fig.add_subplot(111)\n",
    "            \n",
    "            ax.plot(np.concatenate([x, 1 + x]), np.concatenate([y, y]), '--k', lw=2, label='True Data')\n",
    "            ax.plot(np.concatenate([x, 1 + x]), np.concatenate([best_y_fit, best_y_fit]), color='gray', label=f'Best Fit (k={best_k})')\n",
    "            \n",
    "            ax.set_xlabel('phase')\n",
    "            ax.set_ylabel('amplitude')\n",
    "            ax.set_xlim(np.min(x), np.max(x))\n",
    "            ax.set_ylim(np.min(y), np.max(y))\n",
    "            ax.legend()\n",
    "            \n",
    "            pdf.savefig()\n",
    "            plt.close(fig)\n",
    "    \n",
    "    print(f'All plots saved.')\n",
    "\n",
    "# Call the function\n",
    "FT_bestfit()\n",
    "\n"
   ]
  },
  {
   "cell_type": "markdown",
   "id": "0c930b8b-0602-4787-a467-342386e60706",
   "metadata": {},
   "source": [
    " **This code run over a single directory and list all the features**"
   ]
  },
  {
   "cell_type": "code",
   "execution_count": null,
   "id": "282c3d12-a0c1-4849-b208-ac64e8cf3561",
   "metadata": {},
   "outputs": [],
   "source": [
    "%matplotlib inline\n",
    "%config InlineBackend.figure_format='retina'\n",
    "import os\n",
    "import pandas as pd\n",
    "import matplotlib.pyplot as plt\n",
    "import feets\n",
    "\n",
    "# Initialize lists to store features\n",
    "name = []\n",
    "ntype = []\n",
    "ls = []\n",
    "fvalues = ['name','type']\n",
    "\n",
    "# Function to plot and save to PDF\n",
    "def plot_light_curves_to_pdf(directory):\n",
    "    route = '/content/drive/MyDrive/_TESS_lightcurves_outliercleaned/'\n",
    "    path =  os.path.join(route,directory)\n",
    "    print(path)\n",
    "\n",
    "    f_oc = [os.path.join(path, file) for file in os.listdir(path)]\n",
    "    print(f_oc)\n",
    "    for file in f_oc:\n",
    "        data_in = pd.read_csv(file, sep=',', names=['time', 'mag', 'magerr'], encoding='unicode_escape')\n",
    "        tess_lc = data_in.to_records(index=False)\n",
    "        fs = feets.FeatureSpace(data=['time', 'magnitude', 'error'])\n",
    "        lc = [tess_lc['time'], tess_lc['mag'], tess_lc['magerr']]\n",
    "        features, values = fs.extract(*lc)\n",
    "        ls.append(values)\n",
    "        i = os.path.basename(file)\n",
    "        name.append(i)\n",
    "        ntype.append(directory)\n",
    "    fvalues.append(features)\n",
    "    data = ls\n",
    "    print(data)\n",
    "    df = pd.DataFrame(data)\n",
    "    df.columns = features\n",
    "\n",
    "    df['name'] = name\n",
    "    df['type'] = ntype\n",
    "\n",
    "    # Rearrange columns to have 'name' and 'type' first\n",
    "    cols = ['name', 'type'] + [col for col in df.columns if col not in ['name', 'type']]\n",
    "    df = df[cols]\n",
    "\n",
    "    df.to_csv(f'{directory}.csv', index=False, sep=',')\n",
    "    return df\n",
    "\n",
    "directory = input('Enter Directory name: ')\n",
    "y = plot_light_curves_to_pdf(directory)\n"
   ]
  },
  {
   "cell_type": "markdown",
   "id": "ad04543e-382c-4747-b9ca-6818c4da125b",
   "metadata": {},
   "source": [
    "**Using Corner**"
   ]
  },
  {
   "cell_type": "code",
   "execution_count": 1,
   "id": "3f24c55f-2479-477e-bbe0-a498a4fa4bb0",
   "metadata": {},
   "outputs": [],
   "source": [
    "import corner\n",
    "import pandas as pd\n",
    "import numpy as np\n",
    "import matplotlib.pyplot as plt"
   ]
  },
  {
   "cell_type": "code",
   "execution_count": 2,
   "id": "caa458f3-67a8-400c-a8f8-2a9e814c1fc8",
   "metadata": {},
   "outputs": [],
   "source": [
    "l = \"L.csv\"\n",
    "data_in = pd.read_csv(l, sep=',', names=['Amplitude', 'PeriodLS'], encoding='unicode_escape')\n",
    "lc = data_in.to_records(index=False)"
   ]
  },
  {
   "cell_type": "code",
   "execution_count": 3,
   "id": "a6db7b14-1b8b-4775-a7a8-dfb2d79be712",
   "metadata": {},
   "outputs": [
    {
     "name": "stdout",
     "output_type": "stream",
     "text": [
      "236\n"
     ]
    }
   ],
   "source": [
    "y = lc['Amplitude'][1:].astype(float)\n",
    "x = lc['PeriodLS'][1:].astype(float)\n",
    "\n",
    "sample = np.array(list(zip(x, y)))\n",
    "\n",
    "print(len(sample))"
   ]
  },
  {
   "cell_type": "code",
   "execution_count": 4,
   "id": "007f478c-f137-4283-b94a-36d172ebdc6c",
   "metadata": {},
   "outputs": [
    {
     "data": {
      "image/png": "[encoded data removed]",
      "text/plain": [
       "<Figure size 550x550 with 4 Axes>"
      ]
     },
     "metadata": {},
     "output_type": "display_data"
    }
   ],
   "source": [
    "figure = corner.corner(sample)"
   ]
  },
  {
   "cell_type": "code",
   "execution_count": null,
   "id": "3cdb9884-b8b4-4a2c-adaf-d18e5c9a434a",
   "metadata": {},
   "outputs": [],
   "source": []
  },
  {
   "cell_type": "code",
   "execution_count": 14,
   "id": "e6795c9b-7f73-4414-ad4d-cb61244975a2",
   "metadata": {},
   "outputs": [],
   "source": [
    "dcep = \"DCEP.csv\"\n",
    "hads = \"HADS.csv\"\n",
    "data_in = pd.read_csv(dcep, sep=',', names=['Amplitude', 'PeriodLS'], encoding='unicode_escape')\n",
    "lc_1 = data_in.to_records(index=False)\n",
    "data_in = pd.read_csv(hads, sep=',', names=['Amplitude', 'PeriodLS'], encoding='unicode_escape')\n",
    "lc_2 = data_in.to_records(index=False)"
   ]
  },
  {
   "cell_type": "code",
   "execution_count": 15,
   "id": "c735b71a-8945-464e-acca-2af4910e3a3b",
   "metadata": {},
   "outputs": [
    {
     "name": "stdout",
     "output_type": "stream",
     "text": [
      "77\n",
      "31\n"
     ]
    }
   ],
   "source": [
    "y = lc_1['Amplitude'][1:].astype(float)\n",
    "x = lc_1['PeriodLS'][1:].astype(float)\n",
    "sample_1 = np.array(list(zip(x, y)))\n",
    "\n",
    "y = lc_2['Amplitude'][1:].astype(float)\n",
    "x = lc_2['PeriodLS'][1:].astype(float)\n",
    "sample_2 = np.array(list(zip(x, y)))\n",
    "\n",
    "print(len(sample_1))\n",
    "print(len(sample_2))"
   ]
  },
  {
   "cell_type": "code",
   "execution_count": 16,
   "id": "c0e63006-17a2-4f89-9c94-5b2941f9dee2",
   "metadata": {},
   "outputs": [
    {
     "name": "stderr",
     "output_type": "stream",
     "text": [
      "WARNING:root:Too few points to create valid contours\n"
     ]
    },
    {
     "data": {
      "image/png": "[encoded data removed]",
      "text/plain": [
       "<Figure size 550x550 with 4 Axes>"
      ]
     },
     "metadata": {},
     "output_type": "display_data"
    }
   ],
   "source": [
    "figure = corner.corner(sample_1, color = 'blue')\n",
    "figure = corner.corner(sample_2, color = 'green', fig=figure)"
   ]
  },
  {
   "cell_type": "code",
   "execution_count": null,
   "id": "edf2579b-b033-4884-b232-d8e24686613f",
   "metadata": {},
   "outputs": [],
   "source": []
  }
 ],
 "metadata": {
  "kernelspec": {
   "display_name": "Python 3 (ipykernel)",
   "language": "python",
   "name": "python3"
  },
  "language_info": {
   "codemirror_mode": {
    "name": "ipython",
    "version": 3
   },
   "file_extension": ".py",
   "mimetype": "text/x-python",
   "name": "python",
   "nbconvert_exporter": "python",
   "pygments_lexer": "ipython3",
   "version": "3.12.3"
  }
 },
 "nbformat": 4,
 "nbformat_minor": 5
}
